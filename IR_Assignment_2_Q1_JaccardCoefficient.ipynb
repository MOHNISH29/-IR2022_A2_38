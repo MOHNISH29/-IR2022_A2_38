{
 "cells": [
  {
   "cell_type": "code",
   "execution_count": 1,
   "id": "87fac8c0",
   "metadata": {},
   "outputs": [],
   "source": [
    "import nltk\n",
    "import string\n",
    "import re\n",
    "import pandas as pd\n",
    "import glob\n",
    "import os\n",
    "from nltk.stem import PorterStemmer\n",
    "from nltk.corpus import stopwords\n",
    "from nltk import word_tokenize\n",
    "from nltk.stem import WordNetLemmatizer\n",
    "lemmatizer = WordNetLemmatizer()\n",
    "stop_words = set(stopwords.words('english'))"
   ]
  },
  {
   "cell_type": "code",
   "execution_count": 2,
   "id": "a64ecfee",
   "metadata": {},
   "outputs": [],
   "source": [
    "file_names = []\n",
    "data = []\n",
    "for filename in os.listdir(\"data_folder\"):\n",
    "    file_names.append(filename)\n",
    "    \n",
    "    try:\n",
    "            f = open(\"data_folder/\"+filename , encoding='utf8')\n",
    "            var=f.read().replace('\\n',\" \")\n",
    "            data.append(var)\n",
    "            \n",
    "    except Exception as e:\n",
    "            f = open(\"data_folder/\"+filename , encoding='unicode_escape')\n",
    "            var=f.read().replace('\\n',\" \")\n",
    "            data.append(var)\n",
    "            \n",
    "    f.close();\n",
    "            "
   ]
  },
  {
   "cell_type": "code",
   "execution_count": 3,
   "id": "bfed2d20",
   "metadata": {},
   "outputs": [],
   "source": [
    "# len(file_names)"
   ]
  },
  {
   "cell_type": "code",
   "execution_count": 3,
   "id": "6fdb10d1",
   "metadata": {},
   "outputs": [],
   "source": [
    "def preprocessing(d):\n",
    "    no_punc = []\n",
    "    d_lower=d.lower()\n",
    "    \n",
    "    nltk_tokens = nltk.word_tokenize(d_lower)\n",
    "    \n",
    "    stop_words_removed = []\n",
    "    for w in nltk_tokens:\n",
    "        if w not in stop_words:\n",
    "            stop_words_removed.append(w)\n",
    "    \n",
    "    \n",
    "    new_words = []\n",
    "    for x in stop_words_removed:\n",
    "        if(x.isalnum() and x!=\" \"):\n",
    "            new_words.append(x)\n",
    "        \n",
    "        \n",
    "    return new_words"
   ]
  },
  {
   "cell_type": "code",
   "execution_count": 4,
   "id": "f979147a",
   "metadata": {},
   "outputs": [],
   "source": [
    "preprocessed_data = []\n",
    "for d in data:\n",
    "    data_new = preprocessing(d)\n",
    "    preprocessed_data.append(data_new)    "
   ]
  },
  {
   "cell_type": "code",
   "execution_count": 5,
   "id": "6575afa8",
   "metadata": {},
   "outputs": [
    {
     "name": "stdout",
     "output_type": "stream",
     "text": [
      "Enter a query!once upon a time.\n"
     ]
    }
   ],
   "source": [
    "query = input(\"Enter a query!\")\n",
    "preprocessed_query = preprocessing(query)"
   ]
  },
  {
   "cell_type": "code",
   "execution_count": 6,
   "id": "e63fe9f0",
   "metadata": {},
   "outputs": [],
   "source": [
    "jaccard_score = []\n",
    "for file_data in preprocessed_data:\n",
    "    intersection = list(set(file_data) & set(preprocessed_query))\n",
    "    union = list(set().union(file_data, preprocessed_query))\n",
    "    js = len(intersection)/len(union)\n",
    "    jaccard_score.append(js)"
   ]
  },
  {
   "cell_type": "code",
   "execution_count": 7,
   "id": "4402a356",
   "metadata": {},
   "outputs": [
    {
     "data": {
      "text/plain": [
       "554"
      ]
     },
     "execution_count": 7,
     "metadata": {},
     "output_type": "execute_result"
    }
   ],
   "source": [
    "maxi = max(jaccard_score)\n",
    "jaccard_score.index(maxi)"
   ]
  },
  {
   "cell_type": "code",
   "execution_count": 8,
   "id": "259f9600",
   "metadata": {},
   "outputs": [],
   "source": [
    "Z = [x for _,x in sorted(zip(jaccard_score,file_names))]"
   ]
  },
  {
   "cell_type": "code",
   "execution_count": 9,
   "id": "c1c9480b",
   "metadata": {},
   "outputs": [],
   "source": [
    "Z.reverse()"
   ]
  },
  {
   "cell_type": "code",
   "execution_count": 10,
   "id": "d641a65f",
   "metadata": {},
   "outputs": [
    {
     "name": "stdout",
     "output_type": "stream",
     "text": [
      "justify\n",
      "footfun.hum\n",
      "naivewiz.hum\n",
      "lobquad.hum\n",
      "roach.asc\n"
     ]
    }
   ],
   "source": [
    "i=0\n",
    "for i in range(5):\n",
    "    print(Z[i])"
   ]
  },
  {
   "cell_type": "code",
   "execution_count": 12,
   "id": "1f018404",
   "metadata": {},
   "outputs": [],
   "source": [
    "#union and intersection of two lists\n",
    "lst1 = ['as' , 'er' , 'meto' , 'mohnish']\n",
    "lst2 = ['as' , 'er']\n",
    "inter=list(set(lst1) & set(lst2))\n",
    "final_list = list(set().union(lst1, lst2))"
   ]
  }
 ],
 "metadata": {
  "kernelspec": {
   "display_name": "Python 3 (ipykernel)",
   "language": "python",
   "name": "python3"
  },
  "language_info": {
   "codemirror_mode": {
    "name": "ipython",
    "version": 3
   },
   "file_extension": ".py",
   "mimetype": "text/x-python",
   "name": "python",
   "nbconvert_exporter": "python",
   "pygments_lexer": "ipython3",
   "version": "3.9.5"
  }
 },
 "nbformat": 4,
 "nbformat_minor": 5
}
