{
 "cells": [
  {
   "cell_type": "code",
   "execution_count": 69,
   "id": "9e338302",
   "metadata": {},
   "outputs": [],
   "source": [
    "import matplotlib.pyplot as plt\n",
    "import numpy as np\n",
    "import math "
   ]
  },
  {
   "cell_type": "code",
   "execution_count": 70,
   "id": "1ceee73d",
   "metadata": {},
   "outputs": [],
   "source": [
    "f = open('IR-assignment-2-data.txt', 'r')"
   ]
  },
  {
   "cell_type": "code",
   "execution_count": 71,
   "id": "6f2cefd9",
   "metadata": {},
   "outputs": [],
   "source": [
    "doc_del=[]"
   ]
  },
  {
   "cell_type": "code",
   "execution_count": 72,
   "id": "12d4eb89",
   "metadata": {},
   "outputs": [],
   "source": [
    "for line in f:\n",
    "    line_words = line.split()\n",
    "    if line_words[1] == 'qid:4':\n",
    "        doc_del.append(line_words)\n",
    "    else:\n",
    "        break"
   ]
  },
  {
   "cell_type": "markdown",
   "id": "ddf0c349",
   "metadata": {},
   "source": [
    "### Finding DCG for the Whole DataSet"
   ]
  },
  {
   "cell_type": "code",
   "execution_count": 73,
   "id": "0fa80101",
   "metadata": {},
   "outputs": [],
   "source": [
    "dcgWD=[]\n",
    "for i in range(len(doc_del)):\n",
    "    dcgWD.append((float(doc_del[i][0]))/math.log(i+2,2))"
   ]
  },
  {
   "cell_type": "code",
   "execution_count": 74,
   "id": "70ad2722",
   "metadata": {},
   "outputs": [
    {
     "data": {
      "text/plain": [
       "103"
      ]
     },
     "execution_count": 74,
     "metadata": {},
     "output_type": "execute_result"
    }
   ],
   "source": [
    "len(dcgWD)"
   ]
  },
  {
   "cell_type": "code",
   "execution_count": 75,
   "id": "11afd410",
   "metadata": {},
   "outputs": [],
   "source": [
    "dcgWD.sort(reverse=True)"
   ]
  },
  {
   "cell_type": "markdown",
   "id": "ced59609",
   "metadata": {},
   "source": [
    "dcgWD"
   ]
  },
  {
   "cell_type": "code",
   "execution_count": 76,
   "id": "9eaa69a8",
   "metadata": {},
   "outputs": [],
   "source": [
    "dic={}\n",
    "for i in dcgWD:\n",
    "    dic[i]=dcgWD.count(i)"
   ]
  },
  {
   "cell_type": "markdown",
   "id": "89f2712e",
   "metadata": {},
   "source": [
    "### Dcg and it's count"
   ]
  },
  {
   "cell_type": "code",
   "execution_count": 77,
   "id": "672f98a2",
   "metadata": {},
   "outputs": [
    {
     "data": {
      "text/plain": [
       "{0.9463946303571861: 1,\n",
       " 0.4627564263195183: 1,\n",
       " 0.455340497393906: 1,\n",
       " 0.4421294589150075: 1,\n",
       " 0.43620858397106305: 1,\n",
       " 0.4206198357143049: 1,\n",
       " 0.38685280723454163: 2,\n",
       " 0.3811028248535468: 1,\n",
       " 0.37840071903374006: 1,\n",
       " 0.3708980468307378: 1,\n",
       " 0.34753068574288: 1,\n",
       " 0.33858761519756286: 1,\n",
       " 0.33460035762034823: 1,\n",
       " 0.3333333333333333: 2,\n",
       " 0.3263024393670215: 1,\n",
       " 0.3181976157385883: 1,\n",
       " 0.30658097730535616: 1,\n",
       " 0.29974108326389487: 1,\n",
       " 0.2789429456511298: 1,\n",
       " 0.2559580248098155: 1,\n",
       " 0.23540891336663824: 1,\n",
       " 0.22424382421757544: 1,\n",
       " 0.21274605355336312: 1,\n",
       " 0.20184908658209982: 1,\n",
       " 0.19656163223282258: 1,\n",
       " 0.18790182470910757: 1,\n",
       " 0.1729696904450771: 1,\n",
       " 0.17144160057391344: 1,\n",
       " 0.16794877895704194: 1,\n",
       " 0.16427204996205022: 1,\n",
       " 0.1610447717564444: 1,\n",
       " 0.16005307325482135: 1,\n",
       " 0.15957141566993815: 1,\n",
       " 0.15643778834207156: 1,\n",
       " 0.156021065022225: 1,\n",
       " 0.15561139140249397: 1,\n",
       " 0.1552085627701551: 1,\n",
       " 0.15403922195426356: 1,\n",
       " 0.15256487060115928: 1,\n",
       " 0.15117821092177644: 1,\n",
       " 0.15019048322368794: 1,\n",
       " 0.14955506186451523: 1,\n",
       " 0.0: 59}"
      ]
     },
     "execution_count": 77,
     "metadata": {},
     "output_type": "execute_result"
    }
   ],
   "source": [
    "dic"
   ]
  },
  {
   "cell_type": "code",
   "execution_count": 78,
   "id": "ec829f3f",
   "metadata": {},
   "outputs": [],
   "source": [
    "def fact(n):\n",
    "    if(n==0 or n==1):\n",
    "        return 1;\n",
    "    else:\n",
    "        fac=n*fact(n-1)\n",
    "        return fac;"
   ]
  },
  {
   "cell_type": "code",
   "execution_count": 79,
   "id": "cdf7295e",
   "metadata": {},
   "outputs": [],
   "source": [
    "# ans is  59! + 2! + 2! "
   ]
  },
  {
   "cell_type": "code",
   "execution_count": 80,
   "id": "67103d13",
   "metadata": {},
   "outputs": [],
   "source": [
    "ans= fact(59)+fact(2)+fact(2)"
   ]
  },
  {
   "cell_type": "code",
   "execution_count": 81,
   "id": "b79ba8a8",
   "metadata": {},
   "outputs": [
    {
     "data": {
      "text/plain": [
       "138683118545689835737939019720389406345902876772687432540821294940160000000000004"
      ]
     },
     "execution_count": 81,
     "metadata": {},
     "output_type": "execute_result"
    }
   ],
   "source": [
    "ans"
   ]
  },
  {
   "cell_type": "code",
   "execution_count": 82,
   "id": "fbeffc5e",
   "metadata": {},
   "outputs": [
    {
     "name": "stdout",
     "output_type": "stream",
     "text": [
      "{0.9463946303571861, 0.4627564263195183, 0.43620858397106305, 0.455340497393906, 0.4421294589150075, 0.4206198357143049, 0.38685280723454163, 0.3811028248535468, 0.37840071903374006, 0.3708980468307378, 0.0, 0.2789429456511298, 0.33858761519756286, 0.29974108326389487, 0.3263024393670215, 0.15643778834207156, 0.14955506186451523, 0.33460035762034823, 0.20184908658209982, 0.15019048322368794, 0.23540891336663824, 0.18790182470910757, 0.16794877895704194, 0.16427204996205022, 0.1610447717564444, 0.19656163223282258, 0.16005307325482135, 0.15957141566993815, 0.156021065022225, 0.30658097730535616, 0.15561139140249397, 0.1552085627701551, 0.15256487060115928, 0.3333333333333333, 0.2559580248098155, 0.21274605355336312, 0.17144160057391344, 0.3181976157385883, 0.15403922195426356, 0.15117821092177644, 0.34753068574288, 0.1729696904450771, 0.22424382421757544}\n"
     ]
    }
   ],
   "source": [
    "print(set(dcgWD))"
   ]
  },
  {
   "cell_type": "markdown",
   "id": "be463b39",
   "metadata": {},
   "source": [
    "## Ques 2.c.i)"
   ]
  },
  {
   "cell_type": "code",
   "execution_count": 83,
   "id": "12a52e27",
   "metadata": {},
   "outputs": [],
   "source": [
    "doc_del_2 = doc_del.copy()\n",
    "doc_del.sort()\n",
    "doc_del.reverse()"
   ]
  },
  {
   "cell_type": "markdown",
   "id": "3457e873",
   "metadata": {},
   "source": [
    "## DCG of top 50 docs"
   ]
  },
  {
   "cell_type": "code",
   "execution_count": 93,
   "id": "fef9fbe2",
   "metadata": {},
   "outputs": [
    {
     "name": "stdout",
     "output_type": "stream",
     "text": [
      "dcg is [0.0, 0.0, 0.0, 0.0, 0.38685280723454163, 0.0, 0.3333333333333333, 0.9463946303571861, 0.0, 0.0, 0.2789429456511298, 0.0, 0.0, 0.2559580248098155, 0.0, 0.0, 0.0, 0.23540891336663824, 0.4627564263195183, 0.455340497393906, 0.22424382421757544, 0.4421294589150075, 0.43620858397106305, 0.0, 0.21274605355336312, 0.4206198357143049, 0.0, 0.0, 0.0, 0.20184908658209982, 0.0, 0.0, 0.19656163223282258, 0.0, 0.38685280723454163, 0.0, 0.3811028248535468, 0.37840071903374006, 0.18790182470910757, 0.0, 0.3708980468307378, 0.0, 0.0, 0.0, 0.0, 0.0, 0.0, 0.0, 0.0, 0.0]\n",
      "\n",
      "\n",
      "idcg is [3.0, 1.2618595071429148, 1.0, 0.8613531161467861, 0.7737056144690833, 0.7124143742160444, 0.6666666666666666, 0.6309297535714574, 0.6020599913279623, 0.5781296526357756, 0.5578858913022596, 0.5404763088546395, 0.5252990700743871, 0.511916049619631, 0.5, 0.48930108423645197, 0.4796249331362629, 0.4708178267332765, 0.23137821315975915, 0.227670248696953, 0.22424382421757544, 0.22106472945750374, 0.21810429198553152, 0.21533827903669653, 0.21274605355336312, 0.21030991785715245, 0.20801459767650948, 0.20584683246043442, 0.2037950470905062, 0.20184908658209982, 0.2, 0.19823986317056053, 0.19656163223282258, 0.1949590218937863, 0.19342640361727081, 0.19195872000656014, 0.1905514124267734, 0.18920035951687003, 0.18790182470910757, 0.18665241123894338, 0.1854490234153689, 0.18428883314870617, 0.18316925091363362, 0.18208790046993825, 0.0, 0.0, 0.0, 0.0, 0.0, 0.0]\n",
      "\n",
      "\n",
      "sum of dcg is 7.19450227631398\n",
      "\n",
      "\n",
      "sum of idcg is 19.407247618668023\n",
      "\n",
      "\n",
      "ndcg at 50 is 0.3525464291290627\n"
     ]
    }
   ],
   "source": [
    "#  p=50\n",
    "dcg50=[]\n",
    "idcg50=[]\n",
    "ndcg50=[]\n",
    "totaldcg50=0.0\n",
    "totalidcg50=0.0\n",
    "\n",
    "for i in range(50):\n",
    "    dcg50.append((float(doc_del2[i][0]))/math.log(i+2,2))\n",
    "    #calculate idcg\n",
    "    idcg50.append((float(doc_del[i][0]))/math.log(i+2,2))\n",
    "    # summision of dcg     \n",
    "    totaldcg50 = totaldcg50 + dcg50[i]\n",
    "    # summision of idcg\n",
    "    totalidcg50 = totalidcg50 + idcg50[i]\n",
    "    #calculate ndcg\n",
    "    ndcg50=float(totaldcg50/(totalidcg50+1))\n",
    "    \n",
    "print(\"dcg is\",dcg50)\n",
    "print(\"\\n\")\n",
    "print(\"idcg is\",idcg50)\n",
    "print(\"\\n\")\n",
    "print(\"sum of dcg is\",totaldcg50)\n",
    "print(\"\\n\")\n",
    "print(\"sum of idcg is\",totalidcg50)\n",
    "print(\"\\n\")\n",
    "print(\"ndcg at 50 is\",ndcg50)\n"
   ]
  },
  {
   "cell_type": "markdown",
   "id": "35227ffa",
   "metadata": {},
   "source": [
    "nDCG For the whole dataset"
   ]
  },
  {
   "cell_type": "code",
   "execution_count": 94,
   "id": "300d79d5",
   "metadata": {},
   "outputs": [
    {
     "name": "stdout",
     "output_type": "stream",
     "text": [
      "dcg is [0.0, 0.0, 0.0, 0.0, 0.38685280723454163, 0.0, 0.3333333333333333, 0.9463946303571861, 0.0, 0.0, 0.2789429456511298, 0.0, 0.0, 0.2559580248098155, 0.0, 0.0, 0.0, 0.23540891336663824, 0.4627564263195183, 0.455340497393906, 0.22424382421757544, 0.4421294589150075, 0.43620858397106305, 0.0, 0.21274605355336312, 0.4206198357143049, 0.0, 0.0, 0.0, 0.20184908658209982, 0.0, 0.0, 0.19656163223282258, 0.0, 0.38685280723454163, 0.0, 0.3811028248535468, 0.37840071903374006, 0.18790182470910757, 0.0, 0.3708980468307378, 0.0, 0.0, 0.0, 0.0, 0.0, 0.0, 0.0, 0.0, 0.0, 0.0, 0.0, 0.34753068574288, 0.1729696904450771, 0.0, 0.17144160057391344, 0.0, 0.0, 0.33858761519756286, 0.0, 0.16794877895704194, 0.33460035762034823, 0.3333333333333333, 0.0, 0.0, 0.0, 0.16427204996205022, 0.0, 0.3263024393670215, 0.0, 0.0, 0.0, 0.1610447717564444, 0.0, 0.16005307325482135, 0.15957141566993815, 0.3181976157385883, 0.0, 0.0, 0.0, 0.0, 0.0, 0.15643778834207156, 0.156021065022225, 0.15561139140249397, 0.1552085627701551, 0.0, 0.0, 0.15403922195426356, 0.0, 0.30658097730535616, 0.0, 0.15256487060115928, 0.0, 0.0, 0.0, 0.15117821092177644, 0.0, 0.0, 0.15019048322368794, 0.29974108326389487, 0.14955506186451523, 0.0]\n",
      "\n",
      "\n",
      "idcg is [3.0, 1.2618595071429148, 1.0, 0.8613531161467861, 0.7737056144690833, 0.7124143742160444, 0.6666666666666666, 0.6309297535714574, 0.6020599913279623, 0.5781296526357756, 0.5578858913022596, 0.5404763088546395, 0.5252990700743871, 0.511916049619631, 0.5, 0.48930108423645197, 0.4796249331362629, 0.4708178267332765, 0.23137821315975915, 0.227670248696953, 0.22424382421757544, 0.22106472945750374, 0.21810429198553152, 0.21533827903669653, 0.21274605355336312, 0.21030991785715245, 0.20801459767650948, 0.20584683246043442, 0.2037950470905062, 0.20184908658209982, 0.2, 0.19823986317056053, 0.19656163223282258, 0.1949590218937863, 0.19342640361727081, 0.19195872000656014, 0.1905514124267734, 0.18920035951687003, 0.18790182470910757, 0.18665241123894338, 0.1854490234153689, 0.18428883314870617, 0.18316925091363362, 0.18208790046993825, 0.0, 0.0, 0.0, 0.0, 0.0, 0.0, 0.0, 0.0, 0.0, 0.0, 0.0, 0.0, 0.0, 0.0, 0.0, 0.0, 0.0, 0.0, 0.0, 0.0, 0.0, 0.0, 0.0, 0.0, 0.0, 0.0, 0.0, 0.0, 0.0, 0.0, 0.0, 0.0, 0.0, 0.0, 0.0, 0.0, 0.0, 0.0, 0.0, 0.0, 0.0, 0.0, 0.0, 0.0, 0.0, 0.0, 0.0, 0.0, 0.0, 0.0, 0.0, 0.0, 0.0, 0.0, 0.0, 0.0, 0.0, 0.0, 0.0]\n",
      "\n",
      "\n",
      "sum of dcg is 12.337484420604602\n",
      "\n",
      "\n",
      "sum of idcg is 19.407247618668023\n",
      "\n",
      "\n",
      "ndcg of whole dataset is 0.6045638613861181\n"
     ]
    }
   ],
   "source": [
    "dcgWD=[]\n",
    "idcgWD=[]\n",
    "# ndcgWD=[]\n",
    "totaldcgWD=0.0\n",
    "totalidcgWD=0.0\n",
    "\n",
    "for i in range(len(doc_del)):\n",
    "    dcgWD.append((float(doc_del2[i][0]))/math.log(i+2,2))\n",
    "    #calculate idcg\n",
    "    idcgWD.append((float(doc_del[i][0]))/math.log(i+2,2))\n",
    "    # summision of dcg     \n",
    "    totaldcgWD = totaldcgWD + dcgWD[i]\n",
    "    # summision of idcg\n",
    "    totalidcgWD = totalidcgWD + idcgWD[i]\n",
    "    #calculate ndcg\n",
    "    ndcgWD=float(totaldcgWD/(totalidcgWD+1))\n",
    "    \n",
    "print(\"dcg is\",dcgWD)\n",
    "print(\"\\n\")\n",
    "print(\"idcg is\",idcgWD)\n",
    "print(\"\\n\")\n",
    "print(\"sum of dcg is\",totaldcgWD)\n",
    "print(\"\\n\")\n",
    "print(\"sum of idcg is\",totalidcgWD)\n",
    "print(\"\\n\")\n",
    "print(\"ndcg of whole dataset is\",ndcgWD)"
   ]
  },
  {
   "cell_type": "markdown",
   "id": "18b4c01c",
   "metadata": {},
   "source": [
    "Precision = Total number of documents retrieved that are relevant/Total number of documents that are retrieved."
   ]
  },
  {
   "cell_type": "markdown",
   "id": "b308f47e",
   "metadata": {},
   "source": [
    "Recall = Total number of documents retrieved that are relevant/Total number of relevant documents in the database"
   ]
  },
  {
   "cell_type": "markdown",
   "id": "46debfaa",
   "metadata": {},
   "source": [
    "## Ques2.d)"
   ]
  },
  {
   "cell_type": "code",
   "execution_count": 29,
   "id": "948f654e",
   "metadata": {},
   "outputs": [],
   "source": [
    "f = open('IR-assignment-2-data.txt', 'r')"
   ]
  },
  {
   "cell_type": "code",
   "execution_count": 30,
   "id": "56ea06f9",
   "metadata": {},
   "outputs": [],
   "source": [
    "doc_del=[]\n",
    "others=[]\n",
    "for line in f:\n",
    "\tline_words = line.split()\n",
    "\tif line_words[1] == 'qid:4':\n",
    "\t\tdoc_del.append(line_words)\n",
    "\telse:\n",
    "\t\tothers.append(line_words)\n"
   ]
  },
  {
   "cell_type": "code",
   "execution_count": 31,
   "id": "b1b2f2ce",
   "metadata": {},
   "outputs": [],
   "source": [
    "# doc_del"
   ]
  },
  {
   "cell_type": "markdown",
   "id": "fcf7ef3f",
   "metadata": {},
   "source": [
    "#### Retrieving the relevant documents with qid=4."
   ]
  },
  {
   "cell_type": "code",
   "execution_count": 32,
   "id": "a845bbec",
   "metadata": {},
   "outputs": [],
   "source": [
    "f = open('IR-assignment-2-data.txt', 'r')"
   ]
  },
  {
   "cell_type": "code",
   "execution_count": 33,
   "id": "2ee8dd50",
   "metadata": {},
   "outputs": [],
   "source": [
    "pr=[]\n",
    "precision=[]\n",
    "for line in f:\n",
    "    line_words = line.split()\n",
    "    if (line_words[1]=='qid:4'):\n",
    "            pr.append(line_words[76].split(\":\")[1])\n",
    "            \n",
    "            "
   ]
  },
  {
   "cell_type": "markdown",
   "id": "3b556faa",
   "metadata": {},
   "source": [
    "Recall"
   ]
  },
  {
   "cell_type": "markdown",
   "id": "351b5175",
   "metadata": {},
   "source": [
    "#### Finding total no. of relevant documents in the databse"
   ]
  },
  {
   "cell_type": "code",
   "execution_count": 34,
   "id": "f30cb96d",
   "metadata": {},
   "outputs": [],
   "source": [
    "f = open('IR-assignment-2-data.txt', 'r')"
   ]
  },
  {
   "cell_type": "code",
   "execution_count": 35,
   "id": "c1113ba8",
   "metadata": {},
   "outputs": [],
   "source": [
    "recall=[]\n",
    "rel_docs=[]\n",
    "for line in f:\n",
    "    line_words = line.split()\n",
    "    if (line_words[0]!='0'):\n",
    "        rel_docs.append(line_words[76].split(\":\")[1])\n",
    "        recall.append(len(pr)/len(rel_docs))\n",
    "        "
   ]
  },
  {
   "cell_type": "code",
   "execution_count": 42,
   "id": "ad7d91ff",
   "metadata": {},
   "outputs": [],
   "source": [
    "f = open('IR-assignment-2-data.txt', 'r')"
   ]
  },
  {
   "cell_type": "code",
   "execution_count": 45,
   "id": "e2195d69",
   "metadata": {},
   "outputs": [],
   "source": [
    "dual=[]\n",
    "recall=[]\n",
    "precision=[]\n",
    "rel_docs=0;\n",
    "count=0;\n",
    "for line in f:\n",
    "    line_words = line.split()\n",
    "    if (line_words[1]=='qid:4'):\n",
    "        if(line_words[0]=='0'):\n",
    "            dual.append([0,float(line_words[76].split(\":\")[1])])\n",
    "        else:\n",
    "            dual.append([1,float(line_words[76].split(\":\")[1])])\n",
    "            "
   ]
  },
  {
   "cell_type": "code",
   "execution_count": 46,
   "id": "6b7c5110",
   "metadata": {},
   "outputs": [],
   "source": [
    "dual.sort(reverse=True, key = lambda x: x[1])"
   ]
  },
  {
   "cell_type": "code",
   "execution_count": 47,
   "id": "6cc8f3c9",
   "metadata": {},
   "outputs": [
    {
     "name": "stdout",
     "output_type": "stream",
     "text": [
      "[[0, 972.826451], [0, 612.893205], [0, 571.500533], [0, 538.388954], [1, 528.520116], [0, 463.099129], [1, 439.396463], [1, 411.010633], [0, 316.319283], [1, 311.705149], [0, 305.102064], [1, 296.023694], [1, 292.184568], [1, 270.13233], [1, 237.21632], [1, 237.21632], [0, 226.444023], [1, 217.848266], [0, 212.401296], [1, 202.442155], [0, 201.720933], [1, 200.840161], [0, 200.840161], [1, 198.480212], [1, 192.953467], [1, 188.936782], [0, 188.129935], [0, 187.934366], [0, 186.375414], [0, 185.617459], [0, 180.720002], [1, 180.24324], [0, 177.168378], [1, 176.875026], [0, 176.000104], [0, 169.844071], [1, 166.683125], [1, 161.455583], [0, 161.455583], [1, 161.15638], [1, 157.05992], [1, 156.301965], [0, 148.415271], [0, 148.415271], [0, 144.564444], [0, 143.769297], [1, 143.445062], [0, 142.9683], [1, 142.589323], [0, 142.589323], [1, 142.038637], [1, 140.479685], [0, 130.655061], [1, 121.96152], [1, 121.814843], [0, 121.007996], [1, 108.548081], [1, 103.400313], [0, 98.418404], [1, 98.148911], [0, 95.257458], [0, 95.257458], [1, 94.958714], [0, 91.717534], [0, 91.160998], [0, 90.53171], [1, 89.877389], [0, 88.171761], [1, 85.805962], [0, 85.634253], [1, 84.625987], [0, 84.625987], [1, 84.625987], [0, 84.625987], [1, 84.625987], [0, 84.625987], [0, 84.625987], [1, 81.947653], [1, 81.140806], [1, 81.140806], [0, 79.630746], [1, 77.167163], [0, 76.360315], [0, 75.987188], [0, 74.434086], [0, 73.279603], [0, 71.646268], [0, 70.466293], [0, 70.460443], [1, 69.811973], [0, 68.100494], [0, 43.297629], [1, 42.227139], [0, 22.480108], [0, 22.419515], [0, 19.313312], [0, 18.133337], [1, 18.133337], [0, 15.773388], [0, 14.972391], [0, 14.972391], [0, 3.539923], [0, 3.539923]]\n"
     ]
    }
   ],
   "source": [
    "print(dual)"
   ]
  },
  {
   "cell_type": "markdown",
   "id": "0474a75d",
   "metadata": {},
   "source": [
    "### Total relevant Documents"
   ]
  },
  {
   "cell_type": "code",
   "execution_count": 49,
   "id": "f683ee51",
   "metadata": {},
   "outputs": [],
   "source": [
    "t_relevant=0\n",
    "for i in dual:\n",
    "    if(i[0]!=0):\n",
    "        t_relevant=t_relevant+1"
   ]
  },
  {
   "cell_type": "code",
   "execution_count": 50,
   "id": "da654e2d",
   "metadata": {},
   "outputs": [
    {
     "data": {
      "text/plain": [
       "44"
      ]
     },
     "execution_count": 50,
     "metadata": {},
     "output_type": "execute_result"
    }
   ],
   "source": [
    "t_relevant"
   ]
  },
  {
   "cell_type": "markdown",
   "id": "42dec2af",
   "metadata": {},
   "source": [
    "### Finding precision and recall of all the documents"
   ]
  },
  {
   "cell_type": "code",
   "execution_count": 51,
   "id": "8d3be335",
   "metadata": {},
   "outputs": [],
   "source": [
    "rel_ret=0\n",
    "ret_docs=1\n",
    "precision=[]\n",
    "recall=[]\n",
    "\n",
    "for i in dual:\n",
    "    recall.append(rel_ret/t_relevant)\n",
    "    precision.append(rel_ret/ret_docs)\n",
    "    if(i[0]==1):\n",
    "        rel_ret=rel_ret+1\n",
    "    ret_docs=ret_docs+1\n",
    "    "
   ]
  },
  {
   "cell_type": "markdown",
   "id": "0a546641",
   "metadata": {},
   "source": [
    "### Plotting Graph"
   ]
  },
  {
   "cell_type": "code",
   "execution_count": 100,
   "id": "47de0c6c",
   "metadata": {},
   "outputs": [],
   "source": [
    "import matplotlib.pyplot as plt"
   ]
  },
  {
   "cell_type": "code",
   "execution_count": 101,
   "id": "0d416996",
   "metadata": {},
   "outputs": [
    {
     "data": {
      "image/png": "[encoded data removed]",
      "text/plain": [
       "<Figure size 432x288 with 1 Axes>"
      ]
     },
     "metadata": {
      "needs_background": "light"
     },
     "output_type": "display_data"
    }
   ],
   "source": [
    "plt.plot(recall,precision)\n",
    "plt.xlabel('recall')\n",
    "plt.ylabel('precision')\n",
    "plt.show()"
   ]
  },
  {
   "cell_type": "code",
   "execution_count": null,
   "id": "0d693d97",
   "metadata": {},
   "outputs": [],
   "source": []
  },
  {
   "cell_type": "code",
   "execution_count": null,
   "id": "ead313c2",
   "metadata": {},
   "outputs": [],
   "source": []
  }
 ],
 "metadata": {
  "kernelspec": {
   "display_name": "Python 3 (ipykernel)",
   "language": "python",
   "name": "python3"
  },
  "language_info": {
   "codemirror_mode": {
    "name": "ipython",
    "version": 3
   },
   "file_extension": ".py",
   "mimetype": "text/x-python",
   "name": "python",
   "nbconvert_exporter": "python",
   "pygments_lexer": "ipython3",
   "version": "3.9.7"
  }
 },
 "nbformat": 4,
 "nbformat_minor": 5
}
